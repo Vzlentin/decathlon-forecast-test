{
 "cells": [
  {
   "attachments": {},
   "cell_type": "markdown",
   "metadata": {},
   "source": [
    "# Decathlon Forecast Test "
   ]
  },
  {
   "attachments": {},
   "cell_type": "markdown",
   "metadata": {},
   "source": [
    "## Imports"
   ]
  },
  {
   "cell_type": "code",
   "execution_count": 117,
   "metadata": {},
   "outputs": [],
   "source": [
    "import datetime\n",
    "\n",
    "import pandas as pd\n",
    "import numpy as np\n",
    "import matplotlib.pyplot as plt\n",
    "import plotly.express as px\n",
    "\n",
    "from statsmodels.tsa.seasonal import seasonal_decompose\n",
    "from neuralprophet import NeuralProphet"
   ]
  },
  {
   "attachments": {},
   "cell_type": "markdown",
   "metadata": {},
   "source": [
    "## Data"
   ]
  },
  {
   "cell_type": "code",
   "execution_count": 99,
   "metadata": {},
   "outputs": [],
   "source": [
    "train = pd.read_csv(\"../data/train.csv\")\n",
    "test = pd.read_csv(\"../data/test.csv\")\n",
    "bu_feat = pd.read_csv(\"../data/bu_feat.csv\")"
   ]
  },
  {
   "cell_type": "code",
   "execution_count": 100,
   "metadata": {},
   "outputs": [],
   "source": [
    "# datetime dtype can't be specified during reading \n",
    "train[\"day_id\"] = pd.to_datetime(train[\"day_id\"])\n",
    "test[\"day_id\"] = pd.to_datetime(test[\"day_id\"])"
   ]
  },
  {
   "cell_type": "code",
   "execution_count": 101,
   "metadata": {},
   "outputs": [
    {
     "data": {
      "text/html": [
       "<div>\n",
       "<style scoped>\n",
       "    .dataframe tbody tr th:only-of-type {\n",
       "        vertical-align: middle;\n",
       "    }\n",
       "\n",
       "    .dataframe tbody tr th {\n",
       "        vertical-align: top;\n",
       "    }\n",
       "\n",
       "    .dataframe thead th {\n",
       "        text-align: right;\n",
       "    }\n",
       "</style>\n",
       "<table border=\"1\" class=\"dataframe\">\n",
       "  <thead>\n",
       "    <tr style=\"text-align: right;\">\n",
       "      <th></th>\n",
       "      <th>day_id</th>\n",
       "      <th>but_num_business_unit</th>\n",
       "      <th>dpt_num_department</th>\n",
       "      <th>turnover</th>\n",
       "    </tr>\n",
       "  </thead>\n",
       "  <tbody>\n",
       "    <tr>\n",
       "      <th>0</th>\n",
       "      <td>2017-09-30</td>\n",
       "      <td>64</td>\n",
       "      <td>127</td>\n",
       "      <td>580.308443</td>\n",
       "    </tr>\n",
       "    <tr>\n",
       "      <th>1</th>\n",
       "      <td>2017-09-30</td>\n",
       "      <td>119</td>\n",
       "      <td>127</td>\n",
       "      <td>1512.995918</td>\n",
       "    </tr>\n",
       "    <tr>\n",
       "      <th>2</th>\n",
       "      <td>2017-09-30</td>\n",
       "      <td>4</td>\n",
       "      <td>88</td>\n",
       "      <td>668.593556</td>\n",
       "    </tr>\n",
       "    <tr>\n",
       "      <th>3</th>\n",
       "      <td>2017-09-30</td>\n",
       "      <td>425</td>\n",
       "      <td>127</td>\n",
       "      <td>0.000000</td>\n",
       "    </tr>\n",
       "    <tr>\n",
       "      <th>4</th>\n",
       "      <td>2017-09-30</td>\n",
       "      <td>513</td>\n",
       "      <td>73</td>\n",
       "      <td>0.000000</td>\n",
       "    </tr>\n",
       "  </tbody>\n",
       "</table>\n",
       "</div>"
      ],
      "text/plain": [
       "      day_id  but_num_business_unit  dpt_num_department     turnover\n",
       "0 2017-09-30                     64                 127   580.308443\n",
       "1 2017-09-30                    119                 127  1512.995918\n",
       "2 2017-09-30                      4                  88   668.593556\n",
       "3 2017-09-30                    425                 127     0.000000\n",
       "4 2017-09-30                    513                  73     0.000000"
      ]
     },
     "execution_count": 101,
     "metadata": {},
     "output_type": "execute_result"
    }
   ],
   "source": [
    "train.head()"
   ]
  },
  {
   "cell_type": "code",
   "execution_count": 102,
   "metadata": {},
   "outputs": [
    {
     "data": {
      "text/html": [
       "<div>\n",
       "<style scoped>\n",
       "    .dataframe tbody tr th:only-of-type {\n",
       "        vertical-align: middle;\n",
       "    }\n",
       "\n",
       "    .dataframe tbody tr th {\n",
       "        vertical-align: top;\n",
       "    }\n",
       "\n",
       "    .dataframe thead th {\n",
       "        text-align: right;\n",
       "    }\n",
       "</style>\n",
       "<table border=\"1\" class=\"dataframe\">\n",
       "  <thead>\n",
       "    <tr style=\"text-align: right;\">\n",
       "      <th></th>\n",
       "      <th>but_num_business_unit</th>\n",
       "      <th>but_postcode</th>\n",
       "      <th>but_latitude</th>\n",
       "      <th>but_longitude</th>\n",
       "      <th>but_region_idr_region</th>\n",
       "      <th>zod_idr_zone_dgr</th>\n",
       "    </tr>\n",
       "  </thead>\n",
       "  <tbody>\n",
       "    <tr>\n",
       "      <th>0</th>\n",
       "      <td>1609</td>\n",
       "      <td>80100</td>\n",
       "      <td>50.096306</td>\n",
       "      <td>1.867220</td>\n",
       "      <td>69</td>\n",
       "      <td>4</td>\n",
       "    </tr>\n",
       "    <tr>\n",
       "      <th>1</th>\n",
       "      <td>1995</td>\n",
       "      <td>95700</td>\n",
       "      <td>48.991087</td>\n",
       "      <td>2.520903</td>\n",
       "      <td>3</td>\n",
       "      <td>6</td>\n",
       "    </tr>\n",
       "    <tr>\n",
       "      <th>2</th>\n",
       "      <td>1800</td>\n",
       "      <td>73210</td>\n",
       "      <td>45.552933</td>\n",
       "      <td>6.644736</td>\n",
       "      <td>51</td>\n",
       "      <td>4</td>\n",
       "    </tr>\n",
       "    <tr>\n",
       "      <th>3</th>\n",
       "      <td>238</td>\n",
       "      <td>47550</td>\n",
       "      <td>44.175370</td>\n",
       "      <td>0.638869</td>\n",
       "      <td>134</td>\n",
       "      <td>10</td>\n",
       "    </tr>\n",
       "    <tr>\n",
       "      <th>4</th>\n",
       "      <td>201</td>\n",
       "      <td>13546</td>\n",
       "      <td>43.508418</td>\n",
       "      <td>5.406423</td>\n",
       "      <td>71</td>\n",
       "      <td>10</td>\n",
       "    </tr>\n",
       "  </tbody>\n",
       "</table>\n",
       "</div>"
      ],
      "text/plain": [
       "   but_num_business_unit  but_postcode  but_latitude  but_longitude  \\\n",
       "0                   1609         80100     50.096306       1.867220   \n",
       "1                   1995         95700     48.991087       2.520903   \n",
       "2                   1800         73210     45.552933       6.644736   \n",
       "3                    238         47550     44.175370       0.638869   \n",
       "4                    201         13546     43.508418       5.406423   \n",
       "\n",
       "   but_region_idr_region  zod_idr_zone_dgr  \n",
       "0                     69                 4  \n",
       "1                      3                 6  \n",
       "2                     51                 4  \n",
       "3                    134                10  \n",
       "4                     71                10  "
      ]
     },
     "execution_count": 102,
     "metadata": {},
     "output_type": "execute_result"
    }
   ],
   "source": [
    "bu_feat.head()"
   ]
  },
  {
   "cell_type": "code",
   "execution_count": 103,
   "metadata": {},
   "outputs": [],
   "source": [
    "# add features \n",
    "df = train.merge(bu_feat, how=\"left\", on=\"but_num_business_unit\")\n",
    "df[\"year\"] = df[\"day_id\"].dt.year\n",
    "df[\"week_number\"] = df[\"day_id\"].dt.isocalendar().week"
   ]
  },
  {
   "cell_type": "code",
   "execution_count": 104,
   "metadata": {},
   "outputs": [
    {
     "data": {
      "text/plain": [
       "True"
      ]
     },
     "execution_count": 104,
     "metadata": {},
     "output_type": "execute_result"
    }
   ],
   "source": [
    "# check if there is no duplication induced by joins \n",
    "len(df) == len(train)"
   ]
  },
  {
   "cell_type": "code",
   "execution_count": 105,
   "metadata": {},
   "outputs": [
    {
     "data": {
      "text/html": [
       "<div>\n",
       "<style scoped>\n",
       "    .dataframe tbody tr th:only-of-type {\n",
       "        vertical-align: middle;\n",
       "    }\n",
       "\n",
       "    .dataframe tbody tr th {\n",
       "        vertical-align: top;\n",
       "    }\n",
       "\n",
       "    .dataframe thead th {\n",
       "        text-align: right;\n",
       "    }\n",
       "</style>\n",
       "<table border=\"1\" class=\"dataframe\">\n",
       "  <thead>\n",
       "    <tr style=\"text-align: right;\">\n",
       "      <th></th>\n",
       "      <th>day_id</th>\n",
       "      <th>but_num_business_unit</th>\n",
       "      <th>dpt_num_department</th>\n",
       "      <th>turnover</th>\n",
       "      <th>but_postcode</th>\n",
       "      <th>but_latitude</th>\n",
       "      <th>but_longitude</th>\n",
       "      <th>but_region_idr_region</th>\n",
       "      <th>zod_idr_zone_dgr</th>\n",
       "      <th>year</th>\n",
       "      <th>week_number</th>\n",
       "    </tr>\n",
       "  </thead>\n",
       "  <tbody>\n",
       "    <tr>\n",
       "      <th>0</th>\n",
       "      <td>2017-09-30</td>\n",
       "      <td>64</td>\n",
       "      <td>127</td>\n",
       "      <td>580.308443</td>\n",
       "      <td>16400</td>\n",
       "      <td>45.625172</td>\n",
       "      <td>0.111939</td>\n",
       "      <td>70</td>\n",
       "      <td>10</td>\n",
       "      <td>2017</td>\n",
       "      <td>39</td>\n",
       "    </tr>\n",
       "    <tr>\n",
       "      <th>1</th>\n",
       "      <td>2017-09-30</td>\n",
       "      <td>119</td>\n",
       "      <td>127</td>\n",
       "      <td>1512.995918</td>\n",
       "      <td>74100</td>\n",
       "      <td>46.195037</td>\n",
       "      <td>6.254448</td>\n",
       "      <td>51</td>\n",
       "      <td>4</td>\n",
       "      <td>2017</td>\n",
       "      <td>39</td>\n",
       "    </tr>\n",
       "    <tr>\n",
       "      <th>2</th>\n",
       "      <td>2017-09-30</td>\n",
       "      <td>4</td>\n",
       "      <td>88</td>\n",
       "      <td>668.593556</td>\n",
       "      <td>6600</td>\n",
       "      <td>43.600994</td>\n",
       "      <td>7.078160</td>\n",
       "      <td>55</td>\n",
       "      <td>10</td>\n",
       "      <td>2017</td>\n",
       "      <td>39</td>\n",
       "    </tr>\n",
       "    <tr>\n",
       "      <th>3</th>\n",
       "      <td>2017-09-30</td>\n",
       "      <td>425</td>\n",
       "      <td>127</td>\n",
       "      <td>0.000000</td>\n",
       "      <td>59000</td>\n",
       "      <td>50.617921</td>\n",
       "      <td>3.084186</td>\n",
       "      <td>33</td>\n",
       "      <td>3</td>\n",
       "      <td>2017</td>\n",
       "      <td>39</td>\n",
       "    </tr>\n",
       "    <tr>\n",
       "      <th>4</th>\n",
       "      <td>2017-09-30</td>\n",
       "      <td>513</td>\n",
       "      <td>73</td>\n",
       "      <td>0.000000</td>\n",
       "      <td>33610</td>\n",
       "      <td>44.717366</td>\n",
       "      <td>-0.733429</td>\n",
       "      <td>33</td>\n",
       "      <td>3</td>\n",
       "      <td>2017</td>\n",
       "      <td>39</td>\n",
       "    </tr>\n",
       "  </tbody>\n",
       "</table>\n",
       "</div>"
      ],
      "text/plain": [
       "      day_id  but_num_business_unit  dpt_num_department     turnover  \\\n",
       "0 2017-09-30                     64                 127   580.308443   \n",
       "1 2017-09-30                    119                 127  1512.995918   \n",
       "2 2017-09-30                      4                  88   668.593556   \n",
       "3 2017-09-30                    425                 127     0.000000   \n",
       "4 2017-09-30                    513                  73     0.000000   \n",
       "\n",
       "   but_postcode  but_latitude  but_longitude  but_region_idr_region  \\\n",
       "0         16400     45.625172       0.111939                     70   \n",
       "1         74100     46.195037       6.254448                     51   \n",
       "2          6600     43.600994       7.078160                     55   \n",
       "3         59000     50.617921       3.084186                     33   \n",
       "4         33610     44.717366      -0.733429                     33   \n",
       "\n",
       "   zod_idr_zone_dgr  year  week_number  \n",
       "0                10  2017           39  \n",
       "1                 4  2017           39  \n",
       "2                10  2017           39  \n",
       "3                 3  2017           39  \n",
       "4                 3  2017           39  "
      ]
     },
     "execution_count": 105,
     "metadata": {},
     "output_type": "execute_result"
    }
   ],
   "source": [
    "df.head()"
   ]
  },
  {
   "attachments": {},
   "cell_type": "markdown",
   "metadata": {},
   "source": [
    "## 1. EDA"
   ]
  },
  {
   "attachments": {},
   "cell_type": "markdown",
   "metadata": {},
   "source": [
    "### 1.a"
   ]
  },
  {
   "cell_type": "code",
   "execution_count": 9,
   "metadata": {},
   "outputs": [
    {
     "name": "stdout",
     "output_type": "stream",
     "text": [
      "Dpt with best turnover in 2016: No. 127\n"
     ]
    }
   ],
   "source": [
    "mask_year_2016 = df[\"year\"] == 2016\n",
    "top_dpt_2016 = df[mask_year_2016].groupby(\"dpt_num_department\")[\"turnover\"].sum().sort_values(ascending=False).index[0]\n",
    "print(\"Dpt with best turnover in 2016: No.\", top_dpt_2016)"
   ]
  },
  {
   "attachments": {},
   "cell_type": "markdown",
   "metadata": {},
   "source": [
    "### 1.b"
   ]
  },
  {
   "cell_type": "code",
   "execution_count": 10,
   "metadata": {},
   "outputs": [
    {
     "name": "stdout",
     "output_type": "stream",
     "text": [
      "Top 5 weeks with best turnover in 2015 for Dpt No. 88: [27, 37, 36, 38, 28]\n"
     ]
    }
   ],
   "source": [
    "mask_year_2015 = df[\"year\"] == 2015\n",
    "mask_dpt_88 = df[\"dpt_num_department\"] == 88\n",
    "top_5_weeks_2015_88 = df[mask_year_2015 & mask_dpt_88].groupby(\"week_number\")[\"turnover\"].sum().sort_values(ascending=False).index[:5].to_list()\n",
    "print(\"Top 5 weeks with best turnover in 2015 for Dpt No. 88:\", top_5_weeks_2015_88)"
   ]
  },
  {
   "attachments": {},
   "cell_type": "markdown",
   "metadata": {},
   "source": [
    "### 1.c"
   ]
  },
  {
   "cell_type": "code",
   "execution_count": 11,
   "metadata": {},
   "outputs": [
    {
     "name": "stdout",
     "output_type": "stream",
     "text": [
      "Store with best turnover in 2014: No. 121\n"
     ]
    }
   ],
   "source": [
    "mask_year_2014 = df[\"year\"] == 2014\n",
    "top_store_2014 = df[mask_year_2014].groupby(\"but_num_business_unit\")[\"turnover\"].sum().sort_values(ascending=False).index[0]\n",
    "print(\"Store with best turnover in 2014: No.\", top_store_2014)"
   ]
  },
  {
   "attachments": {},
   "cell_type": "markdown",
   "metadata": {},
   "source": [
    "### 1.d"
   ]
  },
  {
   "cell_type": "code",
   "execution_count": 12,
   "metadata": {},
   "outputs": [],
   "source": [
    "df_73 = df[df[\"dpt_num_department\"] == 73].groupby(\"day_id\")[\"turnover\"].sum().reset_index()"
   ]
  },
  {
   "cell_type": "code",
   "execution_count": 13,
   "metadata": {},
   "outputs": [
    {
     "data": {
      "text/plain": [
       "<Axes: xlabel='day_id'>"
      ]
     },
     "execution_count": 13,
     "metadata": {},
     "output_type": "execute_result"
    },
    {
     "data": {
      "image/png": "[encoded data removed]",
      "text/plain": [
       "<Figure size 640x480 with 1 Axes>"
      ]
     },
     "metadata": {},
     "output_type": "display_data"
    }
   ],
   "source": [
    "df_73.set_index(\"day_id\").plot()"
   ]
  },
  {
   "cell_type": "code",
   "execution_count": 14,
   "metadata": {},
   "outputs": [
    {
     "data": {
      "image/png": "[encoded data removed]",
      "text/plain": [
       "<Figure size 640x480 with 4 Axes>"
      ]
     },
     "metadata": {},
     "output_type": "display_data"
    }
   ],
   "source": [
    "decomp_73 = seasonal_decompose(df_73.set_index(\"day_id\"))\n",
    "fig = decomp_73.plot()"
   ]
  },
  {
   "cell_type": "code",
   "execution_count": 15,
   "metadata": {},
   "outputs": [],
   "source": [
    "seasonality_73 = decomp_73.seasonal.reset_index()\n",
    "seasonality_73[\"week_nb\"] = seasonality_73[\"day_id\"].dt.isocalendar().week\n",
    "seasonality_73[\"month\"] = seasonality_73[\"day_id\"].dt.month"
   ]
  },
  {
   "cell_type": "code",
   "execution_count": 16,
   "metadata": {},
   "outputs": [
    {
     "data": {
      "text/plain": [
       "<Axes: xlabel='week_nb'>"
      ]
     },
     "execution_count": 16,
     "metadata": {},
     "output_type": "execute_result"
    },
    {
     "data": {
      "image/png": "[encoded data removed]",
      "text/plain": [
       "<Figure size 640x480 with 1 Axes>"
      ]
     },
     "metadata": {},
     "output_type": "display_data"
    }
   ],
   "source": [
    "seasonality_73.groupby(\"week_nb\")[\"seasonal\"].sum().plot()"
   ]
  },
  {
   "attachments": {},
   "cell_type": "markdown",
   "metadata": {},
   "source": [
    "### 1.e"
   ]
  },
  {
   "cell_type": "code",
   "execution_count": 17,
   "metadata": {},
   "outputs": [],
   "source": [
    "df_117 = df[df[\"dpt_num_department\"] == 117].groupby(\"day_id\")[\"turnover\"].sum().reset_index()"
   ]
  },
  {
   "cell_type": "code",
   "execution_count": 18,
   "metadata": {},
   "outputs": [
    {
     "data": {
      "text/plain": [
       "<Axes: xlabel='day_id'>"
      ]
     },
     "execution_count": 18,
     "metadata": {},
     "output_type": "execute_result"
    },
    {
     "data": {
      "image/png": "[encoded data removed]",
      "text/plain": [
       "<Figure size 640x480 with 1 Axes>"
      ]
     },
     "metadata": {},
     "output_type": "display_data"
    }
   ],
   "source": [
    "df_117.set_index(\"day_id\").plot()"
   ]
  },
  {
   "cell_type": "code",
   "execution_count": 19,
   "metadata": {},
   "outputs": [
    {
     "data": {
      "image/png": "[encoded data removed]",
      "text/plain": [
       "<Figure size 640x480 with 4 Axes>"
      ]
     },
     "metadata": {},
     "output_type": "display_data"
    }
   ],
   "source": [
    "decomp_117 = seasonal_decompose(df_117.set_index(\"day_id\"))\n",
    "fig = decomp_117.plot()"
   ]
  },
  {
   "cell_type": "code",
   "execution_count": 20,
   "metadata": {},
   "outputs": [],
   "source": [
    "seasonality_117 = decomp_117.seasonal.reset_index()\n",
    "seasonality_117[\"week_nb\"] = seasonality_117[\"day_id\"].dt.isocalendar().week\n",
    "seasonality_117[\"month\"] = seasonality_117[\"day_id\"].dt.month"
   ]
  },
  {
   "cell_type": "code",
   "execution_count": 21,
   "metadata": {},
   "outputs": [
    {
     "data": {
      "text/plain": [
       "<Axes: xlabel='week_nb'>"
      ]
     },
     "execution_count": 21,
     "metadata": {},
     "output_type": "execute_result"
    },
    {
     "data": {
      "image/png": "[encoded data removed]",
      "text/plain": [
       "<Figure size 640x480 with 1 Axes>"
      ]
     },
     "metadata": {},
     "output_type": "display_data"
    }
   ],
   "source": [
    "seasonality_117.groupby(\"week_nb\")[\"seasonal\"].sum().plot()"
   ]
  },
  {
   "attachments": {},
   "cell_type": "markdown",
   "metadata": {},
   "source": [
    "### 1.f"
   ]
  },
  {
   "cell_type": "code",
   "execution_count": 22,
   "metadata": {},
   "outputs": [],
   "source": [
    "df_bu = df.groupby(bu_feat.columns.to_list())[\"turnover\"].sum().reset_index()"
   ]
  },
  {
   "cell_type": "code",
   "execution_count": 23,
   "metadata": {},
   "outputs": [
    {
     "data": {
      "text/html": [
       "<div>\n",
       "<style scoped>\n",
       "    .dataframe tbody tr th:only-of-type {\n",
       "        vertical-align: middle;\n",
       "    }\n",
       "\n",
       "    .dataframe tbody tr th {\n",
       "        vertical-align: top;\n",
       "    }\n",
       "\n",
       "    .dataframe thead th {\n",
       "        text-align: right;\n",
       "    }\n",
       "</style>\n",
       "<table border=\"1\" class=\"dataframe\">\n",
       "  <thead>\n",
       "    <tr style=\"text-align: right;\">\n",
       "      <th></th>\n",
       "      <th>but_num_business_unit</th>\n",
       "      <th>but_postcode</th>\n",
       "      <th>but_latitude</th>\n",
       "      <th>but_longitude</th>\n",
       "      <th>but_region_idr_region</th>\n",
       "      <th>zod_idr_zone_dgr</th>\n",
       "      <th>turnover</th>\n",
       "    </tr>\n",
       "  </thead>\n",
       "  <tbody>\n",
       "    <tr>\n",
       "      <th>0</th>\n",
       "      <td>1</td>\n",
       "      <td>59320</td>\n",
       "      <td>50.628060</td>\n",
       "      <td>2.957377</td>\n",
       "      <td>65</td>\n",
       "      <td>4</td>\n",
       "      <td>3.978473e+05</td>\n",
       "    </tr>\n",
       "    <tr>\n",
       "      <th>1</th>\n",
       "      <td>2</td>\n",
       "      <td>59960</td>\n",
       "      <td>50.741153</td>\n",
       "      <td>3.134613</td>\n",
       "      <td>65</td>\n",
       "      <td>4</td>\n",
       "      <td>4.046371e+05</td>\n",
       "    </tr>\n",
       "    <tr>\n",
       "      <th>2</th>\n",
       "      <td>4</td>\n",
       "      <td>6600</td>\n",
       "      <td>43.600994</td>\n",
       "      <td>7.078160</td>\n",
       "      <td>55</td>\n",
       "      <td>10</td>\n",
       "      <td>1.004336e+06</td>\n",
       "    </tr>\n",
       "    <tr>\n",
       "      <th>3</th>\n",
       "      <td>5</td>\n",
       "      <td>83130</td>\n",
       "      <td>43.139162</td>\n",
       "      <td>6.033324</td>\n",
       "      <td>55</td>\n",
       "      <td>10</td>\n",
       "      <td>1.235997e+06</td>\n",
       "    </tr>\n",
       "    <tr>\n",
       "      <th>4</th>\n",
       "      <td>6</td>\n",
       "      <td>76360</td>\n",
       "      <td>49.527580</td>\n",
       "      <td>0.964279</td>\n",
       "      <td>30</td>\n",
       "      <td>6</td>\n",
       "      <td>6.188135e+05</td>\n",
       "    </tr>\n",
       "  </tbody>\n",
       "</table>\n",
       "</div>"
      ],
      "text/plain": [
       "   but_num_business_unit  but_postcode  but_latitude  but_longitude  \\\n",
       "0                      1         59320     50.628060       2.957377   \n",
       "1                      2         59960     50.741153       3.134613   \n",
       "2                      4          6600     43.600994       7.078160   \n",
       "3                      5         83130     43.139162       6.033324   \n",
       "4                      6         76360     49.527580       0.964279   \n",
       "\n",
       "   but_region_idr_region  zod_idr_zone_dgr      turnover  \n",
       "0                     65                 4  3.978473e+05  \n",
       "1                     65                 4  4.046371e+05  \n",
       "2                     55                10  1.004336e+06  \n",
       "3                     55                10  1.235997e+06  \n",
       "4                     30                 6  6.188135e+05  "
      ]
     },
     "execution_count": 23,
     "metadata": {},
     "output_type": "execute_result"
    }
   ],
   "source": [
    "df_bu.head()"
   ]
  },
  {
   "cell_type": "code",
   "execution_count": 24,
   "metadata": {},
   "outputs": [
    {
     "data": {
      "application/vnd.plotly.v1+json": {
       "config": {
        "plotlyServerURL": "https://plot.ly"
       },
       "data": [
        {
         "hovertemplate": "<b>%{hovertext}</b><br><br>turnover=%{marker.size}<br>but_latitude=%{lat}<br>but_longitude=%{lon}<br>zod_idr_zone_dgr=%{marker.color}<extra></extra>",
         "hovertext": [
          1,
          2,
          4,
          5,
          6,
          8,
          9,
          10,
          11,
          12,
          13,
          14,
          15,
          16,
          17,
          18,
          19,
          20,
          22,
          23,
          24,
          25,
          26,
          27,
          28,
          29,
          30,
          31,
          32,
          33,
          34,
          35,
          36,
          37,
          38,
          39,
          40,
          41,
          42,
          45,
          48,
          49,
          50,
          51,
          52,
          53,
          54,
          55,
          57,
          58,
          60,
          61,
          62,
          63,
          64,
          65,
          66,
          67,
          69,
          70,
          71,
          72,
          73,
          74,
          76,
          77,
          78,
          79,
          80,
          81,
          82,
          83,
          84,
          87,
          88,
          89,
          90,
          92,
          93,
          95,
          96,
          97,
          98,
          99,
          100,
          109,
          110,
          113,
          115,
          116,
          117,
          118,
          119,
          121,
          122,
          125,
          127,
          129,
          131,
          132,
          133,
          134,
          136,
          139,
          148,
          149,
          150,
          151,
          152,
          154,
          155,
          156,
          158,
          159,
          162,
          163,
          167,
          171,
          172,
          175,
          177,
          178,
          179,
          180,
          183,
          184,
          186,
          187,
          188,
          189,
          191,
          192,
          193,
          195,
          198,
          199,
          200,
          201,
          202,
          204,
          206,
          208,
          210,
          211,
          212,
          214,
          216,
          218,
          219,
          221,
          225,
          227,
          229,
          230,
          231,
          232,
          233,
          236,
          237,
          238,
          239,
          241,
          242,
          243,
          249,
          251,
          252,
          253,
          254,
          255,
          259,
          264,
          265,
          267,
          275,
          276,
          277,
          279,
          282,
          288,
          289,
          292,
          296,
          297,
          298,
          300,
          301,
          302,
          308,
          325,
          336,
          338,
          344,
          345,
          348,
          349,
          353,
          354,
          357,
          360,
          363,
          365,
          366,
          379,
          381,
          394,
          395,
          396,
          403,
          405,
          408,
          425,
          426,
          427,
          429,
          436,
          437,
          444,
          450,
          454,
          456,
          461,
          468,
          477,
          479,
          481,
          482,
          483,
          484,
          486,
          496,
          498,
          504,
          505,
          507,
          513,
          518,
          522,
          539,
          541,
          546,
          549,
          553,
          554,
          603,
          605,
          610,
          640,
          641,
          648,
          652,
          658,
          662,
          691,
          692,
          693,
          694,
          720,
          721,
          723,
          724,
          727,
          753,
          762,
          765,
          773,
          774,
          778,
          779,
          812,
          818,
          834,
          846,
          867,
          899,
          933,
          1015,
          1067,
          1106,
          1107,
          1108,
          1109,
          1110,
          1111,
          1112,
          1113,
          1115,
          1116,
          1118,
          1119,
          1120,
          1121,
          1122,
          1123,
          1124,
          1125,
          1126,
          1127,
          1128,
          1129,
          1130,
          1302,
          1375,
          1384,
          1409,
          1501,
          1601,
          1602,
          1607,
          1608,
          1609,
          1611,
          1616,
          1800,
          1869,
          1874,
          1875,
          1876,
          1881,
          1882,
          1883,
          1887
         ],
         "lat": [
          50.62806,
          50.741153092877,
          43.600994009783,
          43.13916219217,
          49.527580379171,
          48.774977467972,
          43.419422613170006,
          43.297672913464005,
          49.000117349576,
          45.790229093077,
          46.559578059992,
          48.625744451825,
          50.616165607988,
          48.783205653834,
          43.605718440100006,
          43.533238900898,
          43.972636275833,
          48.58865742580901,
          44.874862,
          45.146181564846,
          50.380009709485,
          47.329480036209,
          48.590189870312,
          43.319436994782,
          47.3152219,
          48.65681702927999,
          45.197546945398,
          49.216914631029,
          48.425053824534,
          49.405483411557,
          47.17905617660401,
          45.892380783678,
          46.178106099992,
          43.551454129043,
          42.672451,
          44.829945664984,
          43.608075023304,
          48.911597,
          49.078650746812,
          43.571323925561,
          47.88129,
          43.610906,
          48.929838422840994,
          45.939979023462,
          43.80873122718,
          43.48405,
          43.436265579592,
          48.82798,
          49.19668851,
          48.832790978809,
          49.530163,
          49.238738430109,
          45.7652142,
          51.014958,
          45.625172417198,
          47.251536737440006,
          43.347835050534,
          47.796132427835,
          43.124603387346,
          43.726755172152,
          45.240255,
          48.500564745962,
          48.163210843749,
          47.467694948156,
          45.574107710989,
          49.43493170898,
          48.904159089294005,
          50.514452470026,
          47.428158212354,
          47.215892439677,
          48.94676722561,
          45.468709691841,
          48.04015853127,
          48.586372915463,
          48.332739481928,
          49.327556142728994,
          48.876526449495,
          46.316717022458,
          43.23974425098601,
          49.869382,
          50.463439283254,
          50.40746152974,
          43.643483661595,
          43.729771123628,
          47.223866241457,
          45.7817265312,
          46.278271587841,
          43.919561658069,
          49.197189783381006,
          48.525451,
          48.888112987144005,
          50.644545045294,
          46.195037,
          45.725769280296,
          48.089979492797006,
          48.988825113005,
          43.984650148794,
          49.154935865529005,
          45.822362624404,
          48.642537804281,
          49.753996161172,
          48.775416577838,
          44.567418776089,
          50.729510087393,
          47.074863775227,
          48.956570795601,
          49.144141394544,
          43.204581916482,
          47.289599660602,
          50.335196883427,
          45.143233782624,
          47.099779,
          46.223818146279,
          48.577772205195,
          49.343177,
          43.655179960432,
          46.696543209335005,
          43.504670219781,
          43.665026576026,
          42.672101,
          48.656799428712,
          49.596890919888,
          49.90330896416,
          46.349782169109,
          44.617021320185,
          48.61193,
          48.983256802878,
          49.126234430276,
          43.518099736415,
          48.869257098696,
          48.44777564001701,
          49.142708144848,
          46.996066031236,
          49.190619467143,
          48.49150990397101,
          45.186564089938,
          48.925526886994,
          43.508417636898,
          50.682855869814,
          43.17818036151301,
          45.69233988439299,
          43.827647429669,
          46.063457270981,
          43.663195661843005,
          49.054629146506,
          45.591609846287,
          47.764563,
          43.687736,
          44.78797231748901,
          50.257274127328,
          48.6229423,
          48.292940165907,
          50.150644384719,
          50.347276471818,
          47.502031317938005,
          45.9165,
          48.761762,
          47.739646417871,
          43.430995468368,
          44.175369902353,
          43.236455318259,
          47.815603734892,
          48.404323505083,
          48.852016417023,
          50.73450344892901,
          44.814453434753,
          48.187602635662,
          45.947234583529,
          46.775496450166,
          45.65602502061,
          48.275914635935,
          49.112331,
          49.347830105407,
          49.000735419996005,
          44.06937079732899,
          48.719182553531,
          48.622824,
          43.007467741009,
          47.956716810693,
          45.762658725176,
          48.826600297892,
          43.4315,
          48.089736428797,
          47.619434230951,
          47.263703506408994,
          47.372281,
          44.112937857773,
          49.288589235348994,
          47.668234849339,
          44.49189679443,
          46.128613177356,
          47.97706090699099,
          48.80225,
          45.024043330745,
          44.902999750666,
          50.302949011174,
          44.940409,
          44.836969,
          45.65446449999999,
          48.726110665085,
          44.298789042327,
          43.367983601749,
          48.749340890418,
          43.7648401,
          43.729819997578,
          43.428178,
          48.82640139999999,
          48.6232936,
          46.771367282699,
          43.438002257897,
          43.588755664559,
          50.61792149999999,
          48.932422442487,
          45.824702134773,
          48.830211122105,
          49.16042827905002,
          50.6879,
          46.388774097006,
          49.856549238289006,
          48.10228711846501,
          42.773182201954,
          46.87832903591,
          48.757856573639,
          44.717366,
          50.724428066903,
          48.73031481430501,
          43.742925245027,
          49.54468839538,
          49.113314512526,
          48.058910400394,
          48.93996080891901,
          44.113456333534,
          50.6346,
          48.829568662848,
          49.024556832545,
          44.7173656,
          50.6854,
          44.52664049112099,
          48.892725,
          45.718899205212,
          47.111461315625,
          48.36295232443,
          47.433275516219,
          44.829045587963,
          49.361692089766,
          46.821668,
          47.127202221269,
          43.9159597,
          45.749749154152,
          50.617364135841,
          47.973216,
          46.269842274881,
          47.645952710388,
          44.395776,
          50.939426505728,
          43.526724163073,
          46.924682112256,
          48.475374079441,
          47.375493355379,
          45.92,
          45.327709313817,
          48.554205919301005,
          47.64399881847,
          47.901903010947,
          45.572238310287,
          45.184061674149,
          48.171708131663,
          46.83732737924501,
          49.488812562967,
          48.05420801536199,
          48.757978188321,
          45.98233858286101,
          43.306066807376006,
          43.867285522857,
          46.513652065137,
          50.7099,
          50.6366,
          41.9543,
          45.72223,
          45.6081,
          44.612897806151,
          49.5880439,
          43.576979,
          43.564914118296,
          49.063198,
          48.189122,
          49.033033,
          45.273139,
          44.942825,
          49.570645,
          48.617377000000005,
          45.747941,
          50.127918,
          44.142998,
          47.396966,
          48.702524,
          49.286483902686,
          48.757582,
          48.74457,
          45.7800031,
          48.132292490907,
          46.069548069323,
          48.898305747803,
          46.590449939636,
          43.423640500000005,
          43.5854217,
          48.829385400103,
          46.228227631234,
          45.876008,
          43.291036,
          50.096305505057,
          45.01,
          48.8482,
          45.552933,
          48.8214639,
          45.9158718,
          43.111,
          49.101690000000005,
          45.624019,
          46.786704,
          46.205699,
          51.050275
         ],
         "legendgroup": "",
         "lon": [
          2.957376999999952,
          3.1346132050324,
          7.0781601402283005,
          6.0333236032715,
          0.96427905753328,
          2.4380066772461,
          5.3624489814758,
          5.5935598723526,
          2.186929271164,
          4.7779885423279005,
          0.29985826187134,
          2.3438520416642,
          3.1275917202377004,
          2.2192904453690003,
          3.9231993883606,
          1.4066804074097,
          4.863424191015599,
          7.690229067459099,
          -0.567562,
          5.691407646141,
          3.4755738796234,
          0.70847996826172,
          2.5982079219818,
          -0.43501084655762,
          5.0890362,
          7.724459882278401,
          5.7503715390396,
          4.0481480079651,
          -4.4364458576632,
          2.7792070257950003,
          -1.5022398822783998,
          1.2778869444275,
          -1.1210686144638,
          6.948165681228599,
          2.885772,
          -0.6806301719665501,
          1.3046952749252,
          2.0356826,
          6.1110975780487005,
          3.8453186871719,
          1.90382,
          1.4431,
          2.1433739656067,
          6.0689691580581,
          4.3678857735718,
          -1.50716,
          5.2563218154526,
          1.96602,
          -0.452939660049,
          2.2770991263199,
          0.187278,
          2.4685134404755,
          3.1280585,
          2.319579,
          0.11193870967865,
          -1.5128343730164,
          3.2550239679146005,
          7.307597727508599,
          5.8807150701141,
          7.186842625656201,
          5.668488,
          2.5837826799011,
          -1.6379606113617,
          -0.61909174736023,
          5.9491106428528,
          2.1137096243286,
          2.4675643458938,
          2.6221938478851,
          0.7072684669342,
          5.9507893029022005,
          2.670301222229,
          4.3436404920044,
          0.1740542824172999,
          2.4496933544922004,
          4.1041135528869,
          1.0948720145416,
          2.297394780426,
          -0.41801729430389,
          5.396694142188999,
          2.280452,
          2.8291793254089,
          2.9728383703613,
          1.3697865847671002,
          7.4163006785736,
          -1.6270074060821995,
          1.3067464510299998,
          4.8032217473602,
          4.8675829470825,
          6.933714952392499,
          7.688574000000001,
          2.2013429927292,
          3.1424384738189,
          6.254448,
          4.9281999774934,
          -1.6267139338683998,
          1.6737681983947,
          1.3334748981476,
          -0.28744121733551,
          4.7677408148194,
          6.1834727976227,
          4.7050058306885,
          2.5992056315994,
          6.0954560886383,
          1.6444960661316002,
          -0.83482796409607,
          2.8636577957703,
          0.27928690345764,
          2.3138548710251,
          -2.259009464032,
          3.5110421276474,
          1.4752233250618,
          2.3729560000000003,
          5.205549823417599,
          -3.856431951065,
          6.17428,
          6.936812684516901,
          -1.4304398845863,
          6.4832788637543,
          4.6350185717582,
          2.888655,
          -1.3553436441803,
          -1.6034307830811,
          1.0789575238037,
          2.6060998822784,
          -1.1282155231095,
          -1.980412,
          2.3607023267365,
          2.2475902989197003,
          1.5337953055573,
          2.3253604957009,
          1.4504549841309,
          5.4114065277863,
          3.108983383606,
          6.1438808736107005,
          -2.7577974060821004,
          0.76398682209015,
          2.3627921865082,
          5.406422974205,
          3.2175633412171,
          3.0323160886383,
          0.18581626060486,
          5.0358234404755,
          4.0586691322632005,
          0.5938433769989,
          2.0493101045425,
          5.247880841941799,
          -3.400891000000001,
          1.404662,
          -0.53433210052491,
          3.9303382526398,
          2.3011574,
          6.9359337936401,
          3.2203362447052,
          3.0925364054489,
          6.811860583992,
          6.690885000000001,
          -3.44901,
          7.289174319504499,
          5.0479290641098,
          0.63886920768738,
          0.047104392868042,
          3.5665007473602004,
          0.0876797645568849,
          2.4160881666564,
          2.272368832016,
          -0.52546144844055,
          6.4736327930069,
          -0.9904082209015,
          1.6452853055572,
          6.369133322753901,
          -3.5366588279724,
          -1.048979,
          0.5439113082122801,
          1.1571701177215,
          6.1787156357209,
          7.0427053445664,
          4.964678,
          1.6153431507874,
          0.22934399272918,
          4.8556141918183,
          2.1155911997223003,
          5.39811,
          -0.76370256679535,
          1.3019644180298,
          -0.09288142593384,
          1.714046,
          4.8474707692337,
          4.027212181892399,
          -2.7885842605743,
          0.17611044837952,
          3.3995218968201,
          -4.0782386724915,
          7.833039,
          3.883376002655,
          2.4515360342545,
          2.7309021276474,
          4.916817,
          -0.5736874,
          5.113278799999988,
          -0.58446177909851,
          4.7521673789596,
          -1.7813141521149,
          1.3497877817535,
          1.3754257000000507,
          -1.0391634404754,
          5.396907999999938,
          2.7271471000000247,
          2.3059491000000207,
          4.8677222724915,
          6.7198322043991,
          2.2722581891632,
          3.084186499999987,
          2.3170861203765,
          4.9990472294998,
          2.3765668809509,
          -0.2863848209381103,
          3.1035,
          6.5220782567612,
          3.2513132121643,
          7.3640339979003,
          2.9174051289749,
          -1.0161196785736,
          2.3853814034271004,
          -0.733429,
          2.7487244001388995,
          -0.039209608737183,
          7.320597958335901,
          5.8060787142944,
          7.0942849298859,
          1.3357635476379,
          4.4023257354736,
          4.1024539067459,
          3.0648,
          2.6365864464188,
          3.9493095112228,
          -0.7334292000000459,
          3.0895,
          4.7443532234955,
          2.23983,
          5.9232903868638,
          5.5093952316437,
          2.9544894698029,
          -0.49910238604736,
          0.47010579364014,
          3.3192306296387004,
          0.54451,
          -2.1167403214264,
          2.1107253,
          -0.67598135714721,
          3.0844783888855,
          2.732727,
          5.652746292976401,
          -2.0739832619324,
          2.605752,
          1.8400844767212,
          4.9589848121644,
          6.339776261238099,
          -2.0411662468796,
          -1.1976634530563,
          6.8675,
          4.8049222050324,
          3.2988760527786,
          6.9158133172607,
          -3.9074371268448,
          4.812848774343901,
          5.723703619959999,
          3.2879544196045,
          -1.8736532383758,
          0.13296680118866,
          -2.9463558282807005,
          1.9352526962952,
          4.7439057632294,
          5.3651014748688,
          -0.47894748399201,
          -1.7880704012603998,
          3.1737,
          3.0694,
          8.7961,
          4.921525,
          5.8893,
          4.4104248829117,
          3.649588,
          3.934741,
          1.5222499571472,
          -1.433665,
          2.246919,
          3.3775980000000003,
          1.774678,
          4.857169,
          2.977237,
          -2.0638330000000003,
          5.183154,
          3.427389,
          5.965383,
          0.7870739999999999,
          2.25654,
          1.7992498576278002,
          5.192519,
          6.14814,
          3.1953741,
          -1.6888751894103995,
          6.5494477718277,
          2.3723314507874,
          3.3257589194489,
          6.753684700000001,
          1.4052801999999929,
          2.530164022507,
          5.993731929608201,
          6.08798,
          5.482544,
          1.867220361763,
          -0.4376,
          2.2973,
          6.644736,
          2.3127278,
          -1.3284354,
          5.8123,
          1.454199,
          -1.027405,
          -2.0725290000000003,
          -1.367323,
          2.393182
         ],
         "marker": {
          "color": [
           4,
           4,
           10,
           10,
           6,
           6,
           10,
           10,
           6,
           4,
           10,
           6,
           4,
           6,
           10,
           10,
           10,
           4,
           10,
           4,
           4,
           6,
           6,
           10,
           4,
           4,
           4,
           4,
           6,
           4,
           6,
           10,
           10,
           10,
           10,
           10,
           10,
           6,
           4,
           10,
           6,
           10,
           6,
           4,
           10,
           10,
           10,
           6,
           6,
           6,
           6,
           4,
           4,
           4,
           10,
           6,
           10,
           4,
           10,
           10,
           4,
           6,
           6,
           6,
           4,
           4,
           6,
           4,
           6,
           4,
           6,
           4,
           6,
           6,
           4,
           6,
           6,
           10,
           10,
           4,
           4,
           4,
           10,
           10,
           6,
           10,
           4,
           10,
           4,
           4,
           6,
           4,
           4,
           4,
           6,
           6,
           10,
           6,
           4,
           4,
           4,
           6,
           10,
           4,
           6,
           6,
           6,
           10,
           6,
           4,
           10,
           6,
           4,
           6,
           4,
           10,
           10,
           10,
           10,
           10,
           6,
           6,
           6,
           4,
           10,
           6,
           6,
           6,
           10,
           6,
           6,
           4,
           6,
           4,
           6,
           10,
           6,
           10,
           4,
           10,
           10,
           10,
           4,
           10,
           6,
           4,
           6,
           10,
           10,
           4,
           6,
           4,
           4,
           4,
           4,
           1,
           6,
           4,
           10,
           10,
           10,
           6,
           6,
           6,
           4,
           10,
           4,
           10,
           6,
           4,
           6,
           6,
           6,
           6,
           10,
           4,
           4,
           10,
           6,
           4,
           6,
           10,
           6,
           6,
           6,
           6,
           10,
           4,
           6,
           10,
           4,
           6,
           4,
           4,
           10,
           4,
           10,
           35,
           3,
           6,
           10,
           1,
           6,
           3,
           10,
           3,
           3,
           3,
           4,
           10,
           10,
           3,
           6,
           4,
           6,
           3,
           1,
           4,
           4,
           4,
           10,
           10,
           6,
           1,
           4,
           6,
           10,
           4,
           4,
           6,
           4,
           10,
           35,
           6,
           4,
           3,
           1,
           10,
           6,
           4,
           4,
           6,
           6,
           10,
           4,
           10,
           6,
           10,
           10,
           1,
           6,
           4,
           6,
           10,
           4,
           10,
           4,
           6,
           6,
           1,
           4,
           6,
           4,
           6,
           4,
           4,
           6,
           10,
           6,
           6,
           6,
           4,
           10,
           10,
           10,
           1,
           1,
           59,
           72,
           72,
           72,
           72,
           72,
           72,
           72,
           72,
           72,
           72,
           72,
           72,
           72,
           72,
           72,
           72,
           72,
           72,
           72,
           72,
           72,
           72,
           72,
           4,
           6,
           4,
           10,
           10,
           6,
           4,
           4,
           10,
           4,
           72,
           35,
           4,
           6,
           10,
           10,
           72,
           10,
           10,
           10,
           4
          ],
          "coloraxis": "coloraxis",
          "size": [
           397847.33745207096,
           404637.135718962,
           1004335.8228072375,
           1235997.3049608667,
           618813.4647188886,
           682991.0799589732,
           376038.0074936433,
           1324656.0453525642,
           1454358.1489638784,
           522958.78583946964,
           817808.9135111978,
           463709.5558861611,
           290539.48155197897,
           611282.3582291732,
           1747827.818316976,
           986386.9627647748,
           1350001.9350150072,
           403686.11914006964,
           821890.990355012,
           783874.2477070973,
           398293.1736096273,
           698593.2481628665,
           1007387.4766941025,
           1127870.9162331754,
           1205598.040863987,
           379943.63944051956,
           2061848.594472835,
           568700.821657979,
           1343821.5161984127,
           446579.19529845606,
           541463.1069940082,
           643683.7930052227,
           826990.2048569005,
           666642.7949314126,
           4553.378801437383,
           1341442.526329427,
           814235.3564979801,
           700413.9704990389,
           825412.8428046576,
           295628.2874408435,
           811600.0888965033,
           479904.2815534164,
           334791.68495780183,
           1412699.1812763095,
           1152665.9925595021,
           886536.9387985312,
           705240.5966124738,
           778385.8983341451,
           394139.51896716974,
           653990.4290593669,
           652286.6941159157,
           697948.6947990337,
           1264627.2909321229,
           620414.7573595679,
           397468.3457348665,
           347298.946799241,
           788459.3356762148,
           1314251.3507677815,
           700424.6919105967,
           1047628.8851305335,
           332454.7232962573,
           349038.65803418186,
           1030431.5413468692,
           583787.0120728674,
           820674.892801811,
           495730.9204875331,
           862814.5575149225,
           506652.47890878096,
           634479.0851719528,
           1052046.2698968935,
           965791.271068537,
           947307.0738487964,
           546651.9649307999,
           226294.60973214134,
           733933.2567454613,
           817104.8944933353,
           1160117.1590612049,
           733691.1437599126,
           559856.4912220633,
           904526.805213437,
           342870.01395622466,
           641760.4756293665,
           293775.26855167974,
           420898.8811848488,
           1581691.5404470356,
           250410.01455168173,
           659247.9283225231,
           466923.8344446996,
           400691.74429767544,
           795797.9232840063,
           393298.3161371532,
           1757522.2869207833,
           1248389.5751404203,
           1868457.0264410079,
           1202850.3103630757,
           477373.52338919713,
           748617.281931104,
           960165.966088523,
           487108.4163078394,
           1290674.935745483,
           527231.2975584753,
           606954.759192997,
           692876.3110326802,
           594354.6357851158,
           578436.5605179319,
           292476.3668596699,
           286004.98134160443,
           532765.4074932435,
           738338.2989297234,
           350368.23867049767,
           571882.412385174,
           566402.2584492763,
           555131.6114621141,
           414673.69319643255,
           803684.5781695939,
           458747.8938156578,
           764012.3128238957,
           238759.1665935025,
           205755.66911018878,
           1184787.1816911148,
           325222.6662890731,
           571550.9626294215,
           409378.88980664575,
           294886.76716411446,
           474339.8505729251,
           464407.9983987883,
           558336.5577029724,
           247103.51069821065,
           749861.6257737966,
           1811003.961965517,
           458561.1037894199,
           230067.4643241447,
           334274.4364861682,
           432028.07776703825,
           899292.9323515825,
           407508.64278458216,
           599682.3570679468,
           408545.78174710326,
           188496.12341972327,
           602801.9087473482,
           199593.53815209298,
           192519.3574687744,
           459732.1215099884,
           324282.64591939957,
           531400.9223150577,
           882832.3666090006,
           802202.849574435,
           260623.1884464849,
           517799.2122876741,
           353138.357047991,
           1177547.6164479242,
           369357.02916438115,
           181399.148057722,
           241646.15924896495,
           677035.7140929173,
           1173209.2315160083,
           459284.4656478646,
           376490.7871295232,
           346063.43140985875,
           372036.6360929207,
           714008.4548606768,
           575012.4589450489,
           289715.59255347255,
           1050177.5031987862,
           384918.14880229626,
           235386.540827643,
           767757.7119841599,
           473702.6836122029,
           424757.440660708,
           605494.1306060154,
           135976.26754781647,
           245977.2445893984,
           152303.21327975375,
           548226.1281217098,
           345161.56784102134,
           289136.0212028049,
           274315.9681385686,
           619852.3070114906,
           495586.27281629696,
           1149415.5817390452,
           480801.89216288953,
           1253892.914939129,
           540023.309655056,
           452828.513743693,
           398085.9467609502,
           130626.98655987708,
           229417.70041347516,
           325359.60343018494,
           1002568.3357688357,
           236678.4630903751,
           367142.96819274116,
           800750.9098685385,
           442014.2112083605,
           392070.46668951534,
           353800.6481145824,
           309297.38606287487,
           747863.9005360777,
           177877.40173900864,
           11.886832211733095,
           170848.54813907223,
           356439.4681786016,
           107560.54137319348,
           247563.9233971525,
           0.7944681333867861,
           426452.332778984,
           45.5624296307001,
           0,
           19.771133935684833,
           709937.2958668314,
           755410.0592744857,
           374008.37891931104,
           147.8674974390701,
           584475.6420303866,
           420265.1044587231,
           1035597.8878284824,
           0,
           15.069153766827204,
           979560.6836245242,
           458603.3791963516,
           830126.6277639901,
           585213.9348939327,
           209548.97223938178,
           827138.8294780216,
           10520.878827899527,
           281384.2379246332,
           104737.84930296207,
           409600.2904316499,
           609717.8903901909,
           225128.00038847968,
           137162.09806415968,
           239263.23105656295,
           537910.1468842048,
           117669.68346002349,
           1145189.3643291276,
           177854.53240784176,
           52.83340186034107,
           101290.85348874518,
           518841.26118786394,
           1230038.9296208888,
           352482.5072921147,
           278349.1472243885,
           272738.8500000551,
           741351.6541940381,
           339381.74503791635,
           188116.9504363517,
           235507.8060336471,
           238306.0543073959,
           526105.6952719609,
           394047.04480134445,
           2857.047537854973,
           342456.9906392231,
           328475.9983025025,
           253380.46861728907,
           501546.8449782449,
           322659.3635855307,
           248560.64825299146,
           878947.1991920528,
           238044.72746300753,
           236491.16995298665,
           113040.7330609139,
           437713.8002720384,
           139435.8290915758,
           291354.90178877726,
           170849.0313112018,
           386073.9446101635,
           283639.95844358375,
           260865.3689311585,
           262867.67812489416,
           196034.0133586181,
           224608.18360459572,
           419936.4289831501,
           440993.3962797554,
           326516.27898131247,
           246989.54663995662,
           197824.69463609907,
           192.7814950814624,
           7306.950294732996,
           391182.57578365743,
           58119.7799487503,
           51024.96580739447,
           40371.56969862769,
           21465.62612130835,
           33820.62899741647,
           33774.359992361104,
           19876.821831708214,
           22999.215343929405,
           25379.985699135053,
           20498.545500357548,
           35492.188570357124,
           14966.624235458368,
           16693.14072557432,
           25383.38101549931,
           26700.948057191676,
           29178.30686523977,
           19899.088218064404,
           43667.01409574853,
           19116.69858852338,
           21767.129390711878,
           32532.040169512602,
           31463.61912936337,
           21137.695534894225,
           160904.7197794647,
           143490.91919405633,
           87881.69902661217,
           4717.9707988826685,
           53409.028914272385,
           46062.029827736595,
           83968.14548491512,
           20346.65019407541,
           38103.40366345959,
           32661.87051310536,
           21764.19772528291,
           16496.64073618651,
           40321.01119178827,
           17728.52336041197,
           2275.8362042138465,
           449.7567410395489,
           6140.651605558002,
           2033.1662549052735,
           835.0489210405185,
           1440.6499600873829,
           123.26904000178703
          ],
          "sizemode": "area",
          "sizeref": 5154.621486182088
         },
         "mode": "markers",
         "name": "",
         "showlegend": false,
         "subplot": "mapbox",
         "type": "scattermapbox",
         "uid": "270c8da2-a8b5-4af2-b932-d3d587ce0f41"
        }
       ],
       "layout": {
        "coloraxis": {
         "colorbar": {
          "title": {
           "text": "zod_idr_zone_dgr"
          }
         },
         "colorscale": [
          [
           0,
           "orange"
          ],
          [
           1,
           "red"
          ]
         ]
        },
        "height": 800,
        "legend": {
         "itemsizing": "constant",
         "tracegroupgap": 0
        },
        "mapbox": {
         "center": {
          "lat": 46.606111,
          "lon": 1.875278
         },
         "domain": {
          "x": [
           0,
           1
          ],
          "y": [
           0,
           1
          ]
         },
         "style": "open-street-map",
         "zoom": 5
        },
        "margin": {
         "b": 10,
         "l": 10,
         "r": 0,
         "t": 10
        },
        "template": {
         "data": {
          "bar": [
           {
            "error_x": {
             "color": "#2a3f5f"
            },
            "error_y": {
             "color": "#2a3f5f"
            },
            "marker": {
             "line": {
              "color": "#E5ECF6",
              "width": 0.5
             },
             "pattern": {
              "fillmode": "overlay",
              "size": 10,
              "solidity": 0.2
             }
            },
            "type": "bar"
           }
          ],
          "barpolar": [
           {
            "marker": {
             "line": {
              "color": "#E5ECF6",
              "width": 0.5
             },
             "pattern": {
              "fillmode": "overlay",
              "size": 10,
              "solidity": 0.2
             }
            },
            "type": "barpolar"
           }
          ],
          "carpet": [
           {
            "aaxis": {
             "endlinecolor": "#2a3f5f",
             "gridcolor": "white",
             "linecolor": "white",
             "minorgridcolor": "white",
             "startlinecolor": "#2a3f5f"
            },
            "baxis": {
             "endlinecolor": "#2a3f5f",
             "gridcolor": "white",
             "linecolor": "white",
             "minorgridcolor": "white",
             "startlinecolor": "#2a3f5f"
            },
            "type": "carpet"
           }
          ],
          "choropleth": [
           {
            "colorbar": {
             "outlinewidth": 0,
             "ticks": ""
            },
            "type": "choropleth"
           }
          ],
          "contour": [
           {
            "colorbar": {
             "outlinewidth": 0,
             "ticks": ""
            },
            "colorscale": [
             [
              0,
              "#0d0887"
             ],
             [
              0.1111111111111111,
              "#46039f"
             ],
             [
              0.2222222222222222,
              "#7201a8"
             ],
             [
              0.3333333333333333,
              "#9c179e"
             ],
             [
              0.4444444444444444,
              "#bd3786"
             ],
             [
              0.5555555555555556,
              "#d8576b"
             ],
             [
              0.6666666666666666,
              "#ed7953"
             ],
             [
              0.7777777777777778,
              "#fb9f3a"
             ],
             [
              0.8888888888888888,
              "#fdca26"
             ],
             [
              1,
              "#f0f921"
             ]
            ],
            "type": "contour"
           }
          ],
          "contourcarpet": [
           {
            "colorbar": {
             "outlinewidth": 0,
             "ticks": ""
            },
            "type": "contourcarpet"
           }
          ],
          "heatmap": [
           {
            "colorbar": {
             "outlinewidth": 0,
             "ticks": ""
            },
            "colorscale": [
             [
              0,
              "#0d0887"
             ],
             [
              0.1111111111111111,
              "#46039f"
             ],
             [
              0.2222222222222222,
              "#7201a8"
             ],
             [
              0.3333333333333333,
              "#9c179e"
             ],
             [
              0.4444444444444444,
              "#bd3786"
             ],
             [
              0.5555555555555556,
              "#d8576b"
             ],
             [
              0.6666666666666666,
              "#ed7953"
             ],
             [
              0.7777777777777778,
              "#fb9f3a"
             ],
             [
              0.8888888888888888,
              "#fdca26"
             ],
             [
              1,
              "#f0f921"
             ]
            ],
            "type": "heatmap"
           }
          ],
          "heatmapgl": [
           {
            "colorbar": {
             "outlinewidth": 0,
             "ticks": ""
            },
            "colorscale": [
             [
              0,
              "#0d0887"
             ],
             [
              0.1111111111111111,
              "#46039f"
             ],
             [
              0.2222222222222222,
              "#7201a8"
             ],
             [
              0.3333333333333333,
              "#9c179e"
             ],
             [
              0.4444444444444444,
              "#bd3786"
             ],
             [
              0.5555555555555556,
              "#d8576b"
             ],
             [
              0.6666666666666666,
              "#ed7953"
             ],
             [
              0.7777777777777778,
              "#fb9f3a"
             ],
             [
              0.8888888888888888,
              "#fdca26"
             ],
             [
              1,
              "#f0f921"
             ]
            ],
            "type": "heatmapgl"
           }
          ],
          "histogram": [
           {
            "marker": {
             "pattern": {
              "fillmode": "overlay",
              "size": 10,
              "solidity": 0.2
             }
            },
            "type": "histogram"
           }
          ],
          "histogram2d": [
           {
            "colorbar": {
             "outlinewidth": 0,
             "ticks": ""
            },
            "colorscale": [
             [
              0,
              "#0d0887"
             ],
             [
              0.1111111111111111,
              "#46039f"
             ],
             [
              0.2222222222222222,
              "#7201a8"
             ],
             [
              0.3333333333333333,
              "#9c179e"
             ],
             [
              0.4444444444444444,
              "#bd3786"
             ],
             [
              0.5555555555555556,
              "#d8576b"
             ],
             [
              0.6666666666666666,
              "#ed7953"
             ],
             [
              0.7777777777777778,
              "#fb9f3a"
             ],
             [
              0.8888888888888888,
              "#fdca26"
             ],
             [
              1,
              "#f0f921"
             ]
            ],
            "type": "histogram2d"
           }
          ],
          "histogram2dcontour": [
           {
            "colorbar": {
             "outlinewidth": 0,
             "ticks": ""
            },
            "colorscale": [
             [
              0,
              "#0d0887"
             ],
             [
              0.1111111111111111,
              "#46039f"
             ],
             [
              0.2222222222222222,
              "#7201a8"
             ],
             [
              0.3333333333333333,
              "#9c179e"
             ],
             [
              0.4444444444444444,
              "#bd3786"
             ],
             [
              0.5555555555555556,
              "#d8576b"
             ],
             [
              0.6666666666666666,
              "#ed7953"
             ],
             [
              0.7777777777777778,
              "#fb9f3a"
             ],
             [
              0.8888888888888888,
              "#fdca26"
             ],
             [
              1,
              "#f0f921"
             ]
            ],
            "type": "histogram2dcontour"
           }
          ],
          "mesh3d": [
           {
            "colorbar": {
             "outlinewidth": 0,
             "ticks": ""
            },
            "type": "mesh3d"
           }
          ],
          "parcoords": [
           {
            "line": {
             "colorbar": {
              "outlinewidth": 0,
              "ticks": ""
             }
            },
            "type": "parcoords"
           }
          ],
          "pie": [
           {
            "automargin": true,
            "type": "pie"
           }
          ],
          "scatter": [
           {
            "fillpattern": {
             "fillmode": "overlay",
             "size": 10,
             "solidity": 0.2
            },
            "type": "scatter"
           }
          ],
          "scatter3d": [
           {
            "line": {
             "colorbar": {
              "outlinewidth": 0,
              "ticks": ""
             }
            },
            "marker": {
             "colorbar": {
              "outlinewidth": 0,
              "ticks": ""
             }
            },
            "type": "scatter3d"
           }
          ],
          "scattercarpet": [
           {
            "marker": {
             "colorbar": {
              "outlinewidth": 0,
              "ticks": ""
             }
            },
            "type": "scattercarpet"
           }
          ],
          "scattergeo": [
           {
            "marker": {
             "colorbar": {
              "outlinewidth": 0,
              "ticks": ""
             }
            },
            "type": "scattergeo"
           }
          ],
          "scattergl": [
           {
            "marker": {
             "colorbar": {
              "outlinewidth": 0,
              "ticks": ""
             }
            },
            "type": "scattergl"
           }
          ],
          "scattermapbox": [
           {
            "marker": {
             "colorbar": {
              "outlinewidth": 0,
              "ticks": ""
             }
            },
            "type": "scattermapbox"
           }
          ],
          "scatterpolar": [
           {
            "marker": {
             "colorbar": {
              "outlinewidth": 0,
              "ticks": ""
             }
            },
            "type": "scatterpolar"
           }
          ],
          "scatterpolargl": [
           {
            "marker": {
             "colorbar": {
              "outlinewidth": 0,
              "ticks": ""
             }
            },
            "type": "scatterpolargl"
           }
          ],
          "scatterternary": [
           {
            "marker": {
             "colorbar": {
              "outlinewidth": 0,
              "ticks": ""
             }
            },
            "type": "scatterternary"
           }
          ],
          "surface": [
           {
            "colorbar": {
             "outlinewidth": 0,
             "ticks": ""
            },
            "colorscale": [
             [
              0,
              "#0d0887"
             ],
             [
              0.1111111111111111,
              "#46039f"
             ],
             [
              0.2222222222222222,
              "#7201a8"
             ],
             [
              0.3333333333333333,
              "#9c179e"
             ],
             [
              0.4444444444444444,
              "#bd3786"
             ],
             [
              0.5555555555555556,
              "#d8576b"
             ],
             [
              0.6666666666666666,
              "#ed7953"
             ],
             [
              0.7777777777777778,
              "#fb9f3a"
             ],
             [
              0.8888888888888888,
              "#fdca26"
             ],
             [
              1,
              "#f0f921"
             ]
            ],
            "type": "surface"
           }
          ],
          "table": [
           {
            "cells": {
             "fill": {
              "color": "#EBF0F8"
             },
             "line": {
              "color": "white"
             }
            },
            "header": {
             "fill": {
              "color": "#C8D4E3"
             },
             "line": {
              "color": "white"
             }
            },
            "type": "table"
           }
          ]
         },
         "layout": {
          "annotationdefaults": {
           "arrowcolor": "#2a3f5f",
           "arrowhead": 0,
           "arrowwidth": 1
          },
          "autotypenumbers": "strict",
          "coloraxis": {
           "colorbar": {
            "outlinewidth": 0,
            "ticks": ""
           }
          },
          "colorscale": {
           "diverging": [
            [
             0,
             "#8e0152"
            ],
            [
             0.1,
             "#c51b7d"
            ],
            [
             0.2,
             "#de77ae"
            ],
            [
             0.3,
             "#f1b6da"
            ],
            [
             0.4,
             "#fde0ef"
            ],
            [
             0.5,
             "#f7f7f7"
            ],
            [
             0.6,
             "#e6f5d0"
            ],
            [
             0.7,
             "#b8e186"
            ],
            [
             0.8,
             "#7fbc41"
            ],
            [
             0.9,
             "#4d9221"
            ],
            [
             1,
             "#276419"
            ]
           ],
           "sequential": [
            [
             0,
             "#0d0887"
            ],
            [
             0.1111111111111111,
             "#46039f"
            ],
            [
             0.2222222222222222,
             "#7201a8"
            ],
            [
             0.3333333333333333,
             "#9c179e"
            ],
            [
             0.4444444444444444,
             "#bd3786"
            ],
            [
             0.5555555555555556,
             "#d8576b"
            ],
            [
             0.6666666666666666,
             "#ed7953"
            ],
            [
             0.7777777777777778,
             "#fb9f3a"
            ],
            [
             0.8888888888888888,
             "#fdca26"
            ],
            [
             1,
             "#f0f921"
            ]
           ],
           "sequentialminus": [
            [
             0,
             "#0d0887"
            ],
            [
             0.1111111111111111,
             "#46039f"
            ],
            [
             0.2222222222222222,
             "#7201a8"
            ],
            [
             0.3333333333333333,
             "#9c179e"
            ],
            [
             0.4444444444444444,
             "#bd3786"
            ],
            [
             0.5555555555555556,
             "#d8576b"
            ],
            [
             0.6666666666666666,
             "#ed7953"
            ],
            [
             0.7777777777777778,
             "#fb9f3a"
            ],
            [
             0.8888888888888888,
             "#fdca26"
            ],
            [
             1,
             "#f0f921"
            ]
           ]
          },
          "colorway": [
           "#636efa",
           "#EF553B",
           "#00cc96",
           "#ab63fa",
           "#FFA15A",
           "#19d3f3",
           "#FF6692",
           "#B6E880",
           "#FF97FF",
           "#FECB52"
          ],
          "font": {
           "color": "#2a3f5f"
          },
          "geo": {
           "bgcolor": "white",
           "lakecolor": "white",
           "landcolor": "#E5ECF6",
           "showlakes": true,
           "showland": true,
           "subunitcolor": "white"
          },
          "hoverlabel": {
           "align": "left"
          },
          "hovermode": "closest",
          "mapbox": {
           "style": "light"
          },
          "paper_bgcolor": "white",
          "plot_bgcolor": "#E5ECF6",
          "polar": {
           "angularaxis": {
            "gridcolor": "white",
            "linecolor": "white",
            "ticks": ""
           },
           "bgcolor": "#E5ECF6",
           "radialaxis": {
            "gridcolor": "white",
            "linecolor": "white",
            "ticks": ""
           }
          },
          "scene": {
           "xaxis": {
            "backgroundcolor": "#E5ECF6",
            "gridcolor": "white",
            "gridwidth": 2,
            "linecolor": "white",
            "showbackground": true,
            "ticks": "",
            "zerolinecolor": "white"
           },
           "yaxis": {
            "backgroundcolor": "#E5ECF6",
            "gridcolor": "white",
            "gridwidth": 2,
            "linecolor": "white",
            "showbackground": true,
            "ticks": "",
            "zerolinecolor": "white"
           },
           "zaxis": {
            "backgroundcolor": "#E5ECF6",
            "gridcolor": "white",
            "gridwidth": 2,
            "linecolor": "white",
            "showbackground": true,
            "ticks": "",
            "zerolinecolor": "white"
           }
          },
          "shapedefaults": {
           "line": {
            "color": "#2a3f5f"
           }
          },
          "ternary": {
           "aaxis": {
            "gridcolor": "white",
            "linecolor": "white",
            "ticks": ""
           },
           "baxis": {
            "gridcolor": "white",
            "linecolor": "white",
            "ticks": ""
           },
           "bgcolor": "#E5ECF6",
           "caxis": {
            "gridcolor": "white",
            "linecolor": "white",
            "ticks": ""
           }
          },
          "title": {
           "x": 0.05
          },
          "xaxis": {
           "automargin": true,
           "gridcolor": "white",
           "linecolor": "white",
           "ticks": "",
           "title": {
            "standoff": 15
           },
           "zerolinecolor": "white",
           "zerolinewidth": 2
          },
          "yaxis": {
           "automargin": true,
           "gridcolor": "white",
           "linecolor": "white",
           "ticks": "",
           "title": {
            "standoff": 15
           },
           "zerolinecolor": "white",
           "zerolinewidth": 2
          }
         }
        },
        "width": 800
       }
      }
     },
     "metadata": {},
     "output_type": "display_data"
    }
   ],
   "source": [
    "color_scale = [(0, 'orange'), (1,'red')]\n",
    "\n",
    "fig = px.scatter_mapbox(\n",
    "    df_bu,\n",
    "    lat=\"but_latitude\",\n",
    "    lon=\"but_longitude\",\n",
    "    hover_name=\"but_num_business_unit\",\n",
    "    color=\"zod_idr_zone_dgr\",\n",
    "    color_continuous_scale=color_scale,\n",
    "    size=\"turnover\",\n",
    "    zoom=5, \n",
    "    height=800,\n",
    "    width=800,\n",
    "    center={\"lat\":46.606111, \"lon\":1.875278}\n",
    ")\n",
    "\n",
    "fig.update_layout(mapbox_style=\"open-street-map\")\n",
    "fig.update_layout(margin={\"r\":0,\"t\":10,\"l\":10,\"b\":10})\n",
    "fig.show()"
   ]
  },
  {
   "cell_type": "code",
   "execution_count": 25,
   "metadata": {},
   "outputs": [
    {
     "data": {
      "text/plain": [
       "<Axes: xlabel='zod_idr_zone_dgr'>"
      ]
     },
     "execution_count": 25,
     "metadata": {},
     "output_type": "execute_result"
    },
    {
     "data": {
      "image/png": "[encoded data removed]",
      "text/plain": [
       "<Figure size 640x480 with 1 Axes>"
      ]
     },
     "metadata": {},
     "output_type": "display_data"
    }
   ],
   "source": [
    "df.groupby(\"zod_idr_zone_dgr\")[\"turnover\"].sum().plot()"
   ]
  },
  {
   "cell_type": "code",
   "execution_count": 26,
   "metadata": {},
   "outputs": [
    {
     "data": {
      "text/plain": [
       "<Axes: xlabel='day_id'>"
      ]
     },
     "execution_count": 26,
     "metadata": {},
     "output_type": "execute_result"
    },
    {
     "data": {
      "image/png": "[encoded data removed]",
      "text/plain": [
       "<Figure size 640x480 with 1 Axes>"
      ]
     },
     "metadata": {},
     "output_type": "display_data"
    }
   ],
   "source": [
    "df.groupby([\"day_id\", \"dpt_num_department\"])[\"turnover\"].sum().unstack().plot()"
   ]
  },
  {
   "attachments": {},
   "cell_type": "markdown",
   "metadata": {},
   "source": [
    "## 2. Modeling"
   ]
  },
  {
   "cell_type": "code",
   "execution_count": 27,
   "metadata": {},
   "outputs": [
    {
     "data": {
      "text/html": [
       "<div>\n",
       "<style scoped>\n",
       "    .dataframe tbody tr th:only-of-type {\n",
       "        vertical-align: middle;\n",
       "    }\n",
       "\n",
       "    .dataframe tbody tr th {\n",
       "        vertical-align: top;\n",
       "    }\n",
       "\n",
       "    .dataframe thead th {\n",
       "        text-align: right;\n",
       "    }\n",
       "</style>\n",
       "<table border=\"1\" class=\"dataframe\">\n",
       "  <thead>\n",
       "    <tr style=\"text-align: right;\">\n",
       "      <th></th>\n",
       "      <th>day_id</th>\n",
       "      <th>but_num_business_unit</th>\n",
       "      <th>dpt_num_department</th>\n",
       "      <th>turnover</th>\n",
       "      <th>but_postcode</th>\n",
       "      <th>but_latitude</th>\n",
       "      <th>but_longitude</th>\n",
       "      <th>but_region_idr_region</th>\n",
       "      <th>zod_idr_zone_dgr</th>\n",
       "      <th>year</th>\n",
       "      <th>week_number</th>\n",
       "    </tr>\n",
       "  </thead>\n",
       "  <tbody>\n",
       "    <tr>\n",
       "      <th>0</th>\n",
       "      <td>2017-09-30</td>\n",
       "      <td>64</td>\n",
       "      <td>127</td>\n",
       "      <td>580.308443</td>\n",
       "      <td>16400</td>\n",
       "      <td>45.625172</td>\n",
       "      <td>0.111939</td>\n",
       "      <td>70</td>\n",
       "      <td>10</td>\n",
       "      <td>2017</td>\n",
       "      <td>39</td>\n",
       "    </tr>\n",
       "    <tr>\n",
       "      <th>1</th>\n",
       "      <td>2017-09-30</td>\n",
       "      <td>119</td>\n",
       "      <td>127</td>\n",
       "      <td>1512.995918</td>\n",
       "      <td>74100</td>\n",
       "      <td>46.195037</td>\n",
       "      <td>6.254448</td>\n",
       "      <td>51</td>\n",
       "      <td>4</td>\n",
       "      <td>2017</td>\n",
       "      <td>39</td>\n",
       "    </tr>\n",
       "    <tr>\n",
       "      <th>2</th>\n",
       "      <td>2017-09-30</td>\n",
       "      <td>4</td>\n",
       "      <td>88</td>\n",
       "      <td>668.593556</td>\n",
       "      <td>6600</td>\n",
       "      <td>43.600994</td>\n",
       "      <td>7.078160</td>\n",
       "      <td>55</td>\n",
       "      <td>10</td>\n",
       "      <td>2017</td>\n",
       "      <td>39</td>\n",
       "    </tr>\n",
       "    <tr>\n",
       "      <th>3</th>\n",
       "      <td>2017-09-30</td>\n",
       "      <td>425</td>\n",
       "      <td>127</td>\n",
       "      <td>0.000000</td>\n",
       "      <td>59000</td>\n",
       "      <td>50.617921</td>\n",
       "      <td>3.084186</td>\n",
       "      <td>33</td>\n",
       "      <td>3</td>\n",
       "      <td>2017</td>\n",
       "      <td>39</td>\n",
       "    </tr>\n",
       "    <tr>\n",
       "      <th>4</th>\n",
       "      <td>2017-09-30</td>\n",
       "      <td>513</td>\n",
       "      <td>73</td>\n",
       "      <td>0.000000</td>\n",
       "      <td>33610</td>\n",
       "      <td>44.717366</td>\n",
       "      <td>-0.733429</td>\n",
       "      <td>33</td>\n",
       "      <td>3</td>\n",
       "      <td>2017</td>\n",
       "      <td>39</td>\n",
       "    </tr>\n",
       "    <tr>\n",
       "      <th>...</th>\n",
       "      <td>...</td>\n",
       "      <td>...</td>\n",
       "      <td>...</td>\n",
       "      <td>...</td>\n",
       "      <td>...</td>\n",
       "      <td>...</td>\n",
       "      <td>...</td>\n",
       "      <td>...</td>\n",
       "      <td>...</td>\n",
       "      <td>...</td>\n",
       "      <td>...</td>\n",
       "    </tr>\n",
       "    <tr>\n",
       "      <th>277714</th>\n",
       "      <td>2012-12-29</td>\n",
       "      <td>131</td>\n",
       "      <td>73</td>\n",
       "      <td>1.461821</td>\n",
       "      <td>69760</td>\n",
       "      <td>45.822363</td>\n",
       "      <td>4.767741</td>\n",
       "      <td>8</td>\n",
       "      <td>4</td>\n",
       "      <td>2012</td>\n",
       "      <td>52</td>\n",
       "    </tr>\n",
       "    <tr>\n",
       "      <th>277715</th>\n",
       "      <td>2012-12-29</td>\n",
       "      <td>237</td>\n",
       "      <td>127</td>\n",
       "      <td>759.283046</td>\n",
       "      <td>13500</td>\n",
       "      <td>43.430995</td>\n",
       "      <td>5.047929</td>\n",
       "      <td>71</td>\n",
       "      <td>10</td>\n",
       "      <td>2012</td>\n",
       "      <td>52</td>\n",
       "    </tr>\n",
       "    <tr>\n",
       "      <th>277716</th>\n",
       "      <td>2012-12-29</td>\n",
       "      <td>129</td>\n",
       "      <td>117</td>\n",
       "      <td>1716.399152</td>\n",
       "      <td>14124</td>\n",
       "      <td>49.154936</td>\n",
       "      <td>-0.287441</td>\n",
       "      <td>30</td>\n",
       "      <td>6</td>\n",
       "      <td>2012</td>\n",
       "      <td>52</td>\n",
       "    </tr>\n",
       "    <tr>\n",
       "      <th>277717</th>\n",
       "      <td>2012-12-29</td>\n",
       "      <td>468</td>\n",
       "      <td>127</td>\n",
       "      <td>1307.357057</td>\n",
       "      <td>94320</td>\n",
       "      <td>48.757857</td>\n",
       "      <td>2.385381</td>\n",
       "      <td>75</td>\n",
       "      <td>6</td>\n",
       "      <td>2012</td>\n",
       "      <td>52</td>\n",
       "    </tr>\n",
       "    <tr>\n",
       "      <th>277718</th>\n",
       "      <td>2012-12-29</td>\n",
       "      <td>54</td>\n",
       "      <td>73</td>\n",
       "      <td>53.337413</td>\n",
       "      <td>13127</td>\n",
       "      <td>43.436266</td>\n",
       "      <td>5.256322</td>\n",
       "      <td>71</td>\n",
       "      <td>10</td>\n",
       "      <td>2012</td>\n",
       "      <td>52</td>\n",
       "    </tr>\n",
       "  </tbody>\n",
       "</table>\n",
       "<p>277719 rows × 11 columns</p>\n",
       "</div>"
      ],
      "text/plain": [
       "           day_id  but_num_business_unit  dpt_num_department     turnover  \\\n",
       "0      2017-09-30                     64                 127   580.308443   \n",
       "1      2017-09-30                    119                 127  1512.995918   \n",
       "2      2017-09-30                      4                  88   668.593556   \n",
       "3      2017-09-30                    425                 127     0.000000   \n",
       "4      2017-09-30                    513                  73     0.000000   \n",
       "...           ...                    ...                 ...          ...   \n",
       "277714 2012-12-29                    131                  73     1.461821   \n",
       "277715 2012-12-29                    237                 127   759.283046   \n",
       "277716 2012-12-29                    129                 117  1716.399152   \n",
       "277717 2012-12-29                    468                 127  1307.357057   \n",
       "277718 2012-12-29                     54                  73    53.337413   \n",
       "\n",
       "        but_postcode  but_latitude  but_longitude  but_region_idr_region  \\\n",
       "0              16400     45.625172       0.111939                     70   \n",
       "1              74100     46.195037       6.254448                     51   \n",
       "2               6600     43.600994       7.078160                     55   \n",
       "3              59000     50.617921       3.084186                     33   \n",
       "4              33610     44.717366      -0.733429                     33   \n",
       "...              ...           ...            ...                    ...   \n",
       "277714         69760     45.822363       4.767741                      8   \n",
       "277715         13500     43.430995       5.047929                     71   \n",
       "277716         14124     49.154936      -0.287441                     30   \n",
       "277717         94320     48.757857       2.385381                     75   \n",
       "277718         13127     43.436266       5.256322                     71   \n",
       "\n",
       "        zod_idr_zone_dgr  year  week_number  \n",
       "0                     10  2017           39  \n",
       "1                      4  2017           39  \n",
       "2                     10  2017           39  \n",
       "3                      3  2017           39  \n",
       "4                      3  2017           39  \n",
       "...                  ...   ...          ...  \n",
       "277714                 4  2012           52  \n",
       "277715                10  2012           52  \n",
       "277716                 6  2012           52  \n",
       "277717                 6  2012           52  \n",
       "277718                10  2012           52  \n",
       "\n",
       "[277719 rows x 11 columns]"
      ]
     },
     "execution_count": 27,
     "metadata": {},
     "output_type": "execute_result"
    }
   ],
   "source": [
    "df"
   ]
  },
  {
   "cell_type": "code",
   "execution_count": 28,
   "metadata": {},
   "outputs": [],
   "source": [
    "df = df.rename(columns={\"day_id\":\"ds\", \"turnover\":\"y\"})"
   ]
  },
  {
   "cell_type": "code",
   "execution_count": 29,
   "metadata": {},
   "outputs": [],
   "source": [
    "df[\"ID\"] = df[\"but_num_business_unit\"].astype(str) + \"_\" + df[\"dpt_num_department\"].astype(str)"
   ]
  },
  {
   "cell_type": "code",
   "execution_count": 30,
   "metadata": {},
   "outputs": [
    {
     "data": {
      "text/html": [
       "<div>\n",
       "<style scoped>\n",
       "    .dataframe tbody tr th:only-of-type {\n",
       "        vertical-align: middle;\n",
       "    }\n",
       "\n",
       "    .dataframe tbody tr th {\n",
       "        vertical-align: top;\n",
       "    }\n",
       "\n",
       "    .dataframe thead th {\n",
       "        text-align: right;\n",
       "    }\n",
       "</style>\n",
       "<table border=\"1\" class=\"dataframe\">\n",
       "  <thead>\n",
       "    <tr style=\"text-align: right;\">\n",
       "      <th></th>\n",
       "      <th>ds</th>\n",
       "      <th>ID</th>\n",
       "      <th>y</th>\n",
       "    </tr>\n",
       "  </thead>\n",
       "  <tbody>\n",
       "    <tr>\n",
       "      <th>0</th>\n",
       "      <td>2012-12-29</td>\n",
       "      <td>100_117</td>\n",
       "      <td>3736.141601</td>\n",
       "    </tr>\n",
       "    <tr>\n",
       "      <th>1</th>\n",
       "      <td>2012-12-29</td>\n",
       "      <td>100_127</td>\n",
       "      <td>2082.464788</td>\n",
       "    </tr>\n",
       "    <tr>\n",
       "      <th>2</th>\n",
       "      <td>2012-12-29</td>\n",
       "      <td>100_73</td>\n",
       "      <td>334.798246</td>\n",
       "    </tr>\n",
       "    <tr>\n",
       "      <th>3</th>\n",
       "      <td>2012-12-29</td>\n",
       "      <td>100_88</td>\n",
       "      <td>744.595088</td>\n",
       "    </tr>\n",
       "    <tr>\n",
       "      <th>4</th>\n",
       "      <td>2012-12-29</td>\n",
       "      <td>109_117</td>\n",
       "      <td>551.019581</td>\n",
       "    </tr>\n",
       "  </tbody>\n",
       "</table>\n",
       "</div>"
      ],
      "text/plain": [
       "          ds       ID            y\n",
       "0 2012-12-29  100_117  3736.141601\n",
       "1 2012-12-29  100_127  2082.464788\n",
       "2 2012-12-29   100_73   334.798246\n",
       "3 2012-12-29   100_88   744.595088\n",
       "4 2012-12-29  109_117   551.019581"
      ]
     },
     "execution_count": 30,
     "metadata": {},
     "output_type": "execute_result"
    }
   ],
   "source": [
    "df_mv = df.groupby([\"ds\", \"ID\"])[\"y\"].sum().reset_index()\n",
    "df_mv.head()"
   ]
  },
  {
   "cell_type": "code",
   "execution_count": 33,
   "metadata": {},
   "outputs": [
    {
     "data": {
      "text/plain": [
       "<Axes: xlabel='ID'>"
      ]
     },
     "execution_count": 33,
     "metadata": {},
     "output_type": "execute_result"
    },
    {
     "data": {
      "image/png": "[encoded data removed]",
      "text/plain": [
       "<Figure size 640x480 with 1 Axes>"
      ]
     },
     "metadata": {},
     "output_type": "display_data"
    }
   ],
   "source": [
    "df_mv.groupby(\"ID\")[\"ds\"].count().sort_values().plot()"
   ]
  },
  {
   "cell_type": "code",
   "execution_count": 34,
   "metadata": {},
   "outputs": [],
   "source": [
    "g = df_mv.groupby(\"ID\")[\"ds\"].count().reset_index()\n",
    "keep = g[g[\"ds\"] == 249][\"ID\"].to_list()"
   ]
  },
  {
   "cell_type": "code",
   "execution_count": 35,
   "metadata": {},
   "outputs": [],
   "source": [
    "df_mv_f = df_mv[df_mv[\"ID\"].isin(keep)].reset_index(drop=True)"
   ]
  },
  {
   "cell_type": "code",
   "execution_count": null,
   "metadata": {},
   "outputs": [],
   "source": [
    "m = NeuralProphet(\n",
    "    trend_global_local=\"local\",\n",
    "    season_global_local=\"local\",\n",
    "    unknown_data_normalization=True\n",
    ")\n",
    "m.fit(df_mv_f)"
   ]
  },
  {
   "cell_type": "code",
   "execution_count": 106,
   "metadata": {},
   "outputs": [],
   "source": [
    "df_test = test.copy()"
   ]
  },
  {
   "cell_type": "code",
   "execution_count": 107,
   "metadata": {},
   "outputs": [],
   "source": [
    "df_test[\"ID\"] = df_test[\"but_num_business_unit\"].astype(str) + \"_\" + df_test[\"dpt_num_department\"].astype(str)"
   ]
  },
  {
   "cell_type": "code",
   "execution_count": 108,
   "metadata": {},
   "outputs": [],
   "source": [
    "df_test = df_test[[\"day_id\", \"ID\"]]\n",
    "df_test.columns = [\"ds\", \"ID\"]"
   ]
  },
  {
   "cell_type": "code",
   "execution_count": 109,
   "metadata": {},
   "outputs": [
    {
     "data": {
      "text/html": [
       "<div>\n",
       "<style scoped>\n",
       "    .dataframe tbody tr th:only-of-type {\n",
       "        vertical-align: middle;\n",
       "    }\n",
       "\n",
       "    .dataframe tbody tr th {\n",
       "        vertical-align: top;\n",
       "    }\n",
       "\n",
       "    .dataframe thead th {\n",
       "        text-align: right;\n",
       "    }\n",
       "</style>\n",
       "<table border=\"1\" class=\"dataframe\">\n",
       "  <thead>\n",
       "    <tr style=\"text-align: right;\">\n",
       "      <th></th>\n",
       "      <th>ds</th>\n",
       "      <th>ID</th>\n",
       "      <th>y</th>\n",
       "    </tr>\n",
       "  </thead>\n",
       "  <tbody>\n",
       "    <tr>\n",
       "      <th>0</th>\n",
       "      <td>2012-12-29</td>\n",
       "      <td>100_117</td>\n",
       "      <td>3736.141601</td>\n",
       "    </tr>\n",
       "    <tr>\n",
       "      <th>1</th>\n",
       "      <td>2012-12-29</td>\n",
       "      <td>100_127</td>\n",
       "      <td>2082.464788</td>\n",
       "    </tr>\n",
       "    <tr>\n",
       "      <th>2</th>\n",
       "      <td>2012-12-29</td>\n",
       "      <td>100_73</td>\n",
       "      <td>334.798246</td>\n",
       "    </tr>\n",
       "    <tr>\n",
       "      <th>3</th>\n",
       "      <td>2012-12-29</td>\n",
       "      <td>100_88</td>\n",
       "      <td>744.595088</td>\n",
       "    </tr>\n",
       "    <tr>\n",
       "      <th>4</th>\n",
       "      <td>2012-12-29</td>\n",
       "      <td>109_117</td>\n",
       "      <td>551.019581</td>\n",
       "    </tr>\n",
       "    <tr>\n",
       "      <th>...</th>\n",
       "      <td>...</td>\n",
       "      <td>...</td>\n",
       "      <td>...</td>\n",
       "    </tr>\n",
       "    <tr>\n",
       "      <th>10131</th>\n",
       "      <td>2017-10-07</td>\n",
       "      <td>61_88</td>\n",
       "      <td>NaN</td>\n",
       "    </tr>\n",
       "    <tr>\n",
       "      <th>10132</th>\n",
       "      <td>2017-10-07</td>\n",
       "      <td>641_117</td>\n",
       "      <td>NaN</td>\n",
       "    </tr>\n",
       "    <tr>\n",
       "      <th>10133</th>\n",
       "      <td>2017-10-07</td>\n",
       "      <td>724_117</td>\n",
       "      <td>NaN</td>\n",
       "    </tr>\n",
       "    <tr>\n",
       "      <th>10134</th>\n",
       "      <td>2017-10-07</td>\n",
       "      <td>1302_117</td>\n",
       "      <td>NaN</td>\n",
       "    </tr>\n",
       "    <tr>\n",
       "      <th>10135</th>\n",
       "      <td>2017-10-07</td>\n",
       "      <td>1126_88</td>\n",
       "      <td>NaN</td>\n",
       "    </tr>\n",
       "  </tbody>\n",
       "</table>\n",
       "<p>287855 rows × 3 columns</p>\n",
       "</div>"
      ],
      "text/plain": [
       "              ds        ID            y\n",
       "0     2012-12-29   100_117  3736.141601\n",
       "1     2012-12-29   100_127  2082.464788\n",
       "2     2012-12-29    100_73   334.798246\n",
       "3     2012-12-29    100_88   744.595088\n",
       "4     2012-12-29   109_117   551.019581\n",
       "...          ...       ...          ...\n",
       "10131 2017-10-07     61_88          NaN\n",
       "10132 2017-10-07   641_117          NaN\n",
       "10133 2017-10-07   724_117          NaN\n",
       "10134 2017-10-07  1302_117          NaN\n",
       "10135 2017-10-07   1126_88          NaN\n",
       "\n",
       "[287855 rows x 3 columns]"
      ]
     },
     "execution_count": 109,
     "metadata": {},
     "output_type": "execute_result"
    }
   ],
   "source": [
    "pd.concat([df_mv, df_test])"
   ]
  },
  {
   "cell_type": "code",
   "execution_count": null,
   "metadata": {},
   "outputs": [],
   "source": [
    "forecast = m.predict(pd.concat([df_mv_f, df_test_f]))"
   ]
  },
  {
   "cell_type": "code",
   "execution_count": 47,
   "metadata": {},
   "outputs": [
    {
     "data": {
      "text/plain": [
       "<Axes: xlabel='ds'>"
      ]
     },
     "execution_count": 47,
     "metadata": {},
     "output_type": "execute_result"
    },
    {
     "data": {
      "image/png": "[encoded data removed]",
      "text/plain": [
       "<Figure size 640x480 with 1 Axes>"
      ]
     },
     "metadata": {},
     "output_type": "display_data"
    }
   ],
   "source": [
    "global_forecast = forecast.groupby(\"ds\")[[\"y\", \"yhat1\"]].sum().reset_index()\n",
    "global_forecast.set_index(\"ds\").plot()"
   ]
  },
  {
   "cell_type": "code",
   "execution_count": null,
   "metadata": {},
   "outputs": [],
   "source": []
  }
 ],
 "metadata": {
  "kernelspec": {
   "display_name": "decathlon-forecast-test-env",
   "language": "python",
   "name": "python3"
  },
  "language_info": {
   "codemirror_mode": {
    "name": "ipython",
    "version": 3
   },
   "file_extension": ".py",
   "mimetype": "text/x-python",
   "name": "python",
   "nbconvert_exporter": "python",
   "pygments_lexer": "ipython3",
   "version": "3.9.16"
  },
  "orig_nbformat": 4
 },
 "nbformat": 4,
 "nbformat_minor": 2
}
